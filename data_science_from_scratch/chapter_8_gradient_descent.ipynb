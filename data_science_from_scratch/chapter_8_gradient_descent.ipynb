{
 "cells": [
  {
   "cell_type": "code",
   "execution_count": 34,
   "metadata": {},
   "outputs": [
    {
     "data": {
      "text/plain": [
       "<matplotlib.legend.Legend at 0x7f53f49289a0>"
      ]
     },
     "execution_count": 34,
     "metadata": {},
     "output_type": "execute_result"
    },
    {
     "data": {
      "image/png": "[encoded data removed]",
      "text/plain": [
       "<Figure size 432x288 with 1 Axes>"
      ]
     },
     "metadata": {
      "needs_background": "light"
     },
     "output_type": "display_data"
    }
   ],
   "source": [
    "import chapter_8_gradient_descent\n",
    "import matplotlib.pyplot as plt\n",
    "\n",
    "xs = range(-10, 11)\n",
    "actuals = [derivative(x) for x in xs]\n",
    "estimates = [difference_quotient(square, x, h=0.001) for x in xs]\n",
    "\n",
    "plt.plot(xs, actuals, 'x', label='Actuals', color='red')\n",
    "plt.plot(xs, estimates, 'b+', label=\"Estimates\")\n",
    "plt.legend()"
   ]
  },
  {
   "cell_type": "code",
   "execution_count": 36,
   "metadata": {},
   "outputs": [
    {
     "name": "stdout",
     "output_type": "stream",
     "text": [
      "[-0.4804246221064794, -7.019661134870178, -4.374274393385511]\n",
      "1.3943333947051378e-08\n"
     ]
    }
   ],
   "source": [
    "# Example 1 --- gradient descent to zeros\n",
    "  \n",
    "v = [random.uniform(-10,10) for i in range(3)]\n",
    "\n",
    "print(v)\n",
    "\n",
    "for epoch in range(1000):\n",
    "    grad = sum_of_squares_gradient(v)\n",
    "    v = gradient_step(v, grad, -0.01)\n",
    "\n",
    "print(distance(v, [0,0,0]))\n",
    "assert distance(v, [0,0,0]) < 0.001"
   ]
  },
  {
   "cell_type": "code",
   "execution_count": 39,
   "metadata": {},
   "outputs": [
    {
     "name": "stdout",
     "output_type": "stream",
     "text": [
      "[19.99999984793361, 4.9997468093678235]\n"
     ]
    }
   ],
   "source": [
    "# Example 2 - Gradient descent to 20x + 5\n",
    "\n",
    "inputs = [(x,20 * x + 5) for x in range (-50, 50)] # 20x + 5\n",
    "theta = [random.uniform(-1,1), random.uniform(-1,1)]\n",
    "learning_rate = 0.001\n",
    "\n",
    "for epoch in range(5000):\n",
    "    # compute mean of gradients\n",
    "    grad = vector_mean([linear_gradient(x,y,theta) for x, y in inputs])\n",
    "    theta = gradient_step(theta, grad, -learning_rate)\n",
    "    \n",
    "print(theta)\n",
    "slope, intercept = theta\n",
    "assert 19.999 < slope < 20.001, \"slope should be near 20\"\n",
    "assert 4.999 < intercept < 5.001, \"intercept should be near 5\""
   ]
  },
  {
   "cell_type": "code",
   "execution_count": 38,
   "metadata": {},
   "outputs": [
    {
     "name": "stdout",
     "output_type": "stream",
     "text": [
      "[19.999999823865, 4.999997284515418]\n"
     ]
    }
   ],
   "source": [
    "# Example 3 - perform the sameexperiment as example 2, using batched data\n",
    "theta = [random.uniform(-1,1), random.uniform(-1,1)]\n",
    "\n",
    "for epoch in range(1000):\n",
    "    for batch in minibatches(inputs, batch_size=20):\n",
    "        grad = vector_mean([linear_gradient(x,y,theta) for x, y in batch])\n",
    "        theta = gradient_step(theta, grad, -learning_rate)\n",
    "\n",
    "print(theta)\n",
    "slope, intercept = theta\n",
    "assert 19.999 < slope < 20.001, \"slope should be near 20\"\n",
    "assert 4.999 < intercept < 5.001, \"intercept should be near 5\""
   ]
  },
  {
   "cell_type": "code",
   "execution_count": null,
   "metadata": {},
   "outputs": [],
   "source": []
  }
 ],
 "metadata": {
  "kernelspec": {
   "display_name": "Python 3",
   "language": "python",
   "name": "python3"
  },
  "language_info": {
   "codemirror_mode": {
    "name": "ipython",
    "version": 3
   },
   "file_extension": ".py",
   "mimetype": "text/x-python",
   "name": "python",
   "nbconvert_exporter": "python",
   "pygments_lexer": "ipython3",
   "version": "3.8.5"
  }
 },
 "nbformat": 4,
 "nbformat_minor": 4
}
