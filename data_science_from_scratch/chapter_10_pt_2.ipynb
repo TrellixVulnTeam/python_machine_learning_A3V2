{
 "cells": [
  {
   "cell_type": "code",
   "execution_count": null,
   "metadata": {},
   "outputs": [],
   "source": [
    "from chapter_4_vectors import subtract\n",
    "\n",
    "def de_mean(data: List[Vector]) -> List[Vector]:\n",
    "    \"\"\"Recenter data to have mean 0 in every dimension\"\"\"\n",
    "    mean = vector_mean(data)\n",
    "    return [subtract(vector, mean) for vector in data]\n",
    "\n"
   ]
  }
 ],
 "metadata": {
  "kernelspec": {
   "display_name": "Python 3",
   "language": "python",
   "name": "python3"
  },
  "language_info": {
   "codemirror_mode": {
    "name": "ipython",
    "version": 3
   },
   "file_extension": ".py",
   "mimetype": "text/x-python",
   "name": "python",
   "nbconvert_exporter": "python",
   "pygments_lexer": "ipython3",
   "version": "3.8.5"
  }
 },
 "nbformat": 4,
 "nbformat_minor": 4
}
