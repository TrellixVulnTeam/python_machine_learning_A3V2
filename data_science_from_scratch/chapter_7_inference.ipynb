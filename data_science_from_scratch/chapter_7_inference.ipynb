{
 "cells": [
  {
   "cell_type": "code",
   "execution_count": 17,
   "metadata": {},
   "outputs": [
    {
     "name": "stdout",
     "output_type": "stream",
     "text": [
      "500.0 15.811388300841896\n",
      "469.01026640487555 530.9897335951244\n",
      "550.0 15.732132722552274\n"
     ]
    }
   ],
   "source": [
    "from chapter_7_inference import normal_approximation_to_binomial, normal_two_sided_bounds\n",
    "\n",
    "# Get probability distribution for fair coin\n",
    "mu_0, sigma_0 = normal_approximation_to_binomial(1000, 0.5)\n",
    "lower_bound, upper_bound = normal_two_sided_bounds(0.95, mu_0, sigma_0)\n",
    "\n",
    "print(mu_0, sigma_0)\n",
    "print(lower_bound, upper_bound)\n",
    "\n",
    "# Now get distribution for 55% heads coin\n",
    "mu_1, sigma_1 = normal_approximation_to_binomial(1000, .55)\n",
    "\n",
    "print(mu_1, sigma_1)"
   ]
  },
  {
   "cell_type": "code",
   "execution_count": 105,
   "metadata": {},
   "outputs": [
    {
     "name": "stdout",
     "output_type": "stream",
     "text": [
      "61\n"
     ]
    },
    {
     "data": {
      "text/plain": [
       "[<matplotlib.lines.Line2D at 0x7f6bd7f3a700>]"
      ]
     },
     "execution_count": 105,
     "metadata": {},
     "output_type": "execute_result"
    },
    {
     "data": {
      "image/png": "[encoded data removed]",
      "text/plain": [
       "<Figure size 432x288 with 1 Axes>"
      ]
     },
     "metadata": {
      "needs_background": "light"
     },
     "output_type": "display_data"
    }
   ],
   "source": [
    "import random\n",
    "import matplotlib.pyplot as plt\n",
    "\n",
    "nums = []\n",
    "extreme = 0\n",
    "\n",
    "for _ in range(1000):\n",
    "    num_heads = sum(1 if random.random() <= .5 else 0 for\n",
    "                _ in range(1000))\n",
    "    nums.append(num_heads)\n",
    "    if num_heads >= 530 or num_heads <= 470:\n",
    "        extreme += 1\n",
    "\n",
    "assert 59 < extreme < 65, f\"{extreme}\"\n",
    "print(extreme)\n",
    "plt.plot(nums)"
   ]
  },
  {
   "cell_type": "code",
   "execution_count": 114,
   "metadata": {},
   "outputs": [
    {
     "name": "stdout",
     "output_type": "stream",
     "text": [
      "-0.003959233200315022\n",
      "-42.66231128182196 44.48178311699103\n",
      "0.68376\n",
      "0.95393\n",
      "0.99731\n"
     ]
    },
    {
     "ename": "TypeError",
     "evalue": "float() argument must be a string or a number, not 'list'",
     "output_type": "error",
     "traceback": [
      "\u001b[0;31m----------------------------------------------------\u001b[0m",
      "\u001b[0;31mTypeError\u001b[0m          Traceback (most recent call last)",
      "\u001b[0;32m<ipython-input-114-f8d5f4b651e5>\u001b[0m in \u001b[0;36m<module>\u001b[0;34m\u001b[0m\n\u001b[1;32m     15\u001b[0m \u001b[0mprint\u001b[0m\u001b[0;34m(\u001b[0m\u001b[0mlen\u001b[0m\u001b[0;34m(\u001b[0m\u001b[0mdeg2\u001b[0m\u001b[0;34m)\u001b[0m \u001b[0;34m/\u001b[0m \u001b[0mlen\u001b[0m\u001b[0;34m(\u001b[0m\u001b[0mnums\u001b[0m\u001b[0;34m)\u001b[0m\u001b[0;34m)\u001b[0m \u001b[0;31m# should be 95%\u001b[0m\u001b[0;34m\u001b[0m\u001b[0;34m\u001b[0m\u001b[0m\n\u001b[1;32m     16\u001b[0m \u001b[0mprint\u001b[0m\u001b[0;34m(\u001b[0m\u001b[0mlen\u001b[0m\u001b[0;34m(\u001b[0m\u001b[0mdeg3\u001b[0m\u001b[0;34m)\u001b[0m \u001b[0;34m/\u001b[0m \u001b[0mlen\u001b[0m\u001b[0;34m(\u001b[0m\u001b[0mnums\u001b[0m\u001b[0;34m)\u001b[0m\u001b[0;34m)\u001b[0m \u001b[0;31m# should be 99.7%\u001b[0m\u001b[0;34m\u001b[0m\u001b[0;34m\u001b[0m\u001b[0m\n\u001b[0;32m---> 17\u001b[0;31m \u001b[0mfloat\u001b[0m\u001b[0;34m(\u001b[0m\u001b[0mdeg3\u001b[0m\u001b[0;34m)\u001b[0m\u001b[0;34m\u001b[0m\u001b[0;34m\u001b[0m\u001b[0m\n\u001b[0m",
      "\u001b[0;31mTypeError\u001b[0m: float() argument must be a string or a number, not 'list'"
     ]
    }
   ],
   "source": [
    "from numpy import random\n",
    "from collections import Counter\n",
    "\n",
    "nums = random.normal(size=100000, scale=10)\n",
    "\n",
    "counts = Counter(nums)\n",
    "mean = sum(nums) / len(nums)\n",
    "\n",
    "print(sum(nums) / len(nums))\n",
    "print(min(nums),max(nums))\n",
    "deg1 = [x for x in nums if -10 < x < 10]\n",
    "deg2 = [x for x in nums if -20 < x < 20]\n",
    "deg3 = [x for x in nums if -30 < x < 30]\n",
    "print(len(deg1) / len(nums)) # should be 68%\n",
    "\n",
    "print(len(deg2) / len(nums)) # should be 95%\n",
    "print(len(deg3) / len(nums)) # should be 99.7%"
   ]
  },
  {
   "cell_type": "code",
   "execution_count": 128,
   "metadata": {},
   "outputs": [],
   "source": [
    "def two_sided_p_value(x: float, mu: float=0, sigma: float=1) -> float:\n",
    "    \"\"\"How likely are we to see a value at least as extreme as x\n",
    "    in either direction if our values are from N(mu, sigma)\"\"\"\n",
    "    \n",
    "    if x >= mu:\n",
    "        # Number is greater that the mean, tail is everything greater than x\n",
    "        return 2 * normal_probability_above(x, mu, sigma)\n",
    "    else:\n",
    "        # Number is less that the mean, tail is everything less than x\n",
    "        return 2 * normal_probability_below(x, mu, sigma)\n",
    "\n",
    "    assert 59 < extreme_value_count"
   ]
  },
  {
   "cell_type": "code",
   "execution_count": 140,
   "metadata": {},
   "outputs": [
    {
     "ename": "AssertionError",
     "evalue": "49",
     "output_type": "error",
     "traceback": [
      "\u001b[0;31m----------------------------------------------------\u001b[0m",
      "\u001b[0;31mAssertionError\u001b[0m     Traceback (most recent call last)",
      "\u001b[0;32m<ipython-input-140-276493d9d880>\u001b[0m in \u001b[0;36m<module>\u001b[0;34m\u001b[0m\n\u001b[1;32m      8\u001b[0m         \u001b[0mextreme_value_count\u001b[0m \u001b[0;34m+=\u001b[0m \u001b[0;36m1\u001b[0m\u001b[0;34m\u001b[0m\u001b[0;34m\u001b[0m\u001b[0m\n\u001b[1;32m      9\u001b[0m \u001b[0;34m\u001b[0m\u001b[0m\n\u001b[0;32m---> 10\u001b[0;31m \u001b[0;32massert\u001b[0m \u001b[0;36m59\u001b[0m \u001b[0;34m<\u001b[0m \u001b[0mextreme_value_count\u001b[0m \u001b[0;34m<\u001b[0m \u001b[0;36m65\u001b[0m\u001b[0;34m,\u001b[0m \u001b[0;34mf\"{extreme_value_count}\"\u001b[0m\u001b[0;34m\u001b[0m\u001b[0;34m\u001b[0m\u001b[0m\n\u001b[0m\u001b[1;32m     11\u001b[0m \u001b[0mprint\u001b[0m\u001b[0;34m(\u001b[0m\u001b[0mextreme_value_count\u001b[0m\u001b[0;34m)\u001b[0m\u001b[0;34m\u001b[0m\u001b[0;34m\u001b[0m\u001b[0m\n",
      "\u001b[0;31mAssertionError\u001b[0m: 49"
     ]
    }
   ],
   "source": [
    "# example\n",
    "extreme_value_count = 0\n",
    "\n",
    "for _ in range(1000):\n",
    "    num_heads = sum(1 if random.random() < 0.5 else 0\n",
    "                   for _ in range(1000))\n",
    "    if num_heads >= 530 or num_heads <= 470:\n",
    "        extreme_value_count += 1\n",
    "\n",
    "assert 59 < extreme_value_count < 65, f\"{extreme_value_count}\"\n",
    "print(extreme_value_count)"
   ]
  },
  {
   "cell_type": "code",
   "execution_count": 132,
   "metadata": {},
   "outputs": [
    {
     "data": {
      "text/plain": [
       "0.046345287837786575"
      ]
     },
     "execution_count": 132,
     "metadata": {},
     "output_type": "execute_result"
    }
   ],
   "source": [
    "two_sided_p_value(531.5, mu_0, sigma_0)"
   ]
  },
  {
   "cell_type": "code",
   "execution_count": 151,
   "metadata": {},
   "outputs": [
    {
     "name": "stdout",
     "output_type": "stream",
     "text": [
      "0.06062885772582072\n",
      "0.04686839508859242\n"
     ]
    }
   ],
   "source": [
    "upper_p_value = normal_probability_above\n",
    "obs1 = 525\n",
    "obs2 = 527\n",
    "\n",
    "print(upper_p_value(524.5, mu_0, sigma_0)) # Greater than 5% prob -- fair\n",
    "print(upper_p_value(526.5, mu_0, sigma_0)) # Less than 5% prob -- not fair"
   ]
  },
  {
   "cell_type": "code",
   "execution_count": 161,
   "metadata": {},
   "outputs": [
    {
     "data": {
      "text/plain": [
       "(0.5091095927295919, 0.5708904072704082)"
      ]
     },
     "execution_count": 161,
     "metadata": {},
     "output_type": "execute_result"
    }
   ],
   "source": [
    "p_hat = 540 / 1000\n",
    "mu = p_hat\n",
    "sigma = math.sqrt(p_hat * (1 - p_hat) / 1000)\n",
    "normal_two_sided_bounds(0.95, mu, sigma)"
   ]
  },
  {
   "cell_type": "code",
   "execution_count": 171,
   "metadata": {},
   "outputs": [
    {
     "name": "stdout",
     "output_type": "stream",
     "text": [
      "48\n"
     ]
    }
   ],
   "source": [
    "from typing import List\n",
    "\n",
    "def run_experiment() -> List[bool]:\n",
    "    \"\"\"Flip a fair coin 1000 times\"\"\"\n",
    "    return [random.random() < 0.5 for _ in range(1000)]\n",
    "run_experiment()\n",
    "\n",
    "def reject_fairness(experiment: List[bool]) -> bool:\n",
    "    num_heads = len([flip for flip in experiment if flip])\n",
    "    return num_heads < 469 or num_heads > 531\n",
    "\n",
    "random.seed(0)\n",
    "experiments = [run_experiment() for _ in range(1000)]\n",
    "num_rejects = len([experiment for experiment in experiments if\n",
    "                  reject_fairness(experiment)])\n",
    "print(num_rejects)\n",
    "assert 45 < num_rejects < 55"
   ]
  },
  {
   "cell_type": "code",
   "execution_count": null,
   "metadata": {},
   "outputs": [],
   "source": []
  }
 ],
 "metadata": {
  "kernelspec": {
   "display_name": "Python 3",
   "language": "python",
   "name": "python3"
  },
  "language_info": {
   "codemirror_mode": {
    "name": "ipython",
    "version": 3
   },
   "file_extension": ".py",
   "mimetype": "text/x-python",
   "name": "python",
   "nbconvert_exporter": "python",
   "pygments_lexer": "ipython3",
   "version": "3.8.5"
  }
 },
 "nbformat": 4,
 "nbformat_minor": 4
}
