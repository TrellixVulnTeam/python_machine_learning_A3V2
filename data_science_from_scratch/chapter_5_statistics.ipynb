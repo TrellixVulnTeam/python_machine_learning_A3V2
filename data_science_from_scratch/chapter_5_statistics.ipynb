{
 "cells": [
  {
   "cell_type": "code",
   "execution_count": 17,
   "metadata": {},
   "outputs": [
    {
     "name": "stdout",
     "output_type": "stream",
     "text": [
      "[12, 18, 22, 23, 23, 28, 33, 35, 44, 45, 45, 77, 87, 88, 92, 100, 230] 17\n",
      "Number of Points 17\n",
      "Most friends 230\n",
      "Least friends 12\n",
      "Mean number of friends 58.94\n",
      "Second most friends 100\n",
      "Second least friends 18\n",
      "Median number of friends 44\n"
     ]
    },
    {
     "data": {
      "image/png": "[encoded data removed]",
      "text/plain": [
       "<Figure size 432x288 with 1 Axes>"
      ]
     },
     "metadata": {
      "needs_background": "light"
     },
     "output_type": "display_data"
    }
   ],
   "source": [
    "from collections import Counter\n",
    "import matplotlib.pyplot as plt\n",
    "import chapter_5_statistics\n",
    "\n",
    "num_friends = [100, 33, 12, 22, 45, 88, 18, 28, 44, 92, 87, 35, 45, 23, 77, 230, 23 ]\n",
    "friend_count = Counter(num_friends)\n",
    "xs = range(101)\n",
    "ys = [friend_count[x] for x in xs]\n",
    "c='cyan'\n",
    "plt.bar(xs, ys)\n",
    "plt.title('Histogram of friend count', color=c)\n",
    "plt.xlabel('friend count', color=c)\n",
    "plt.ylabel('number of people', color=c)\n",
    "f_sorted = sorted(num_friends)\n",
    "print(f_sorted, len(f_sorted))\n",
    "print('Number of Points', len(num_friends))\n",
    "print('Most friends', max(num_friends))\n",
    "print('Least friends', min(num_friends))\n",
    "print('Mean number of friends', round(sum(num_friends) / len(num_friends), 2))\n",
    "print('Second most friends', f_sorted[-2])\n",
    "print('Second least friends', f_sorted[1])\n",
    "print('Median number of friends', median(num_friends))"
   ]
  },
  {
   "cell_type": "code",
   "execution_count": null,
   "metadata": {},
   "outputs": [],
   "source": []
  }
 ],
 "metadata": {
  "kernelspec": {
   "display_name": "Python 3",
   "language": "python",
   "name": "python3"
  },
  "language_info": {
   "codemirror_mode": {
    "name": "ipython",
    "version": 3
   },
   "file_extension": ".py",
   "mimetype": "text/x-python",
   "name": "python",
   "nbconvert_exporter": "python",
   "pygments_lexer": "ipython3",
   "version": "3.8.5"
  }
 },
 "nbformat": 4,
 "nbformat_minor": 4
}
